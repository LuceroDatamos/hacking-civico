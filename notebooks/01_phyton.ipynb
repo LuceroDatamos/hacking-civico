{
  "nbformat": 4,
  "nbformat_minor": 0,
  "metadata": {
    "colab": {
      "name": "01-phyton.ipynb",
      "provenance": [],
      "authorship_tag": "ABX9TyPDuYb/Bg7OpKNB6RKYlhAL",
      "include_colab_link": true
    },
    "kernelspec": {
      "name": "python3",
      "display_name": "Python 3"
    }
  },
  "cells": [
    {
      "cell_type": "markdown",
      "metadata": {
        "id": "view-in-github",
        "colab_type": "text"
      },
      "source": [
        "<a href=\"https://colab.research.google.com/github/LuceroDatamos/hacking-civico/blob/master/notebooks/01_phyton.ipynb\" target=\"_parent\"><img src=\"https://colab.research.google.com/assets/colab-badge.svg\" alt=\"Open In Colab\"/></a>"
      ]
    },
    {
      "cell_type": "markdown",
      "metadata": {
        "id": "uqpgR6WXNnWr",
        "colab_type": "text"
      },
      "source": [
        "Si tienes alguna duda sobre los conceptos básicos de programación 💻 o Python en específico puedes comentarlas aquí ⬇️ . También siéntete libre de ayudar a tus compañeros respondiendo si sabes resolver su duda 😄\n",
        "\n",
        "—"
      ]
    },
    {
      "cell_type": "code",
      "metadata": {
        "id": "vQ2kjqqLN0oh",
        "colab_type": "code",
        "colab": {
          "base_uri": "https://localhost:8080/",
          "height": 130
        },
        "outputId": "5f6b116a-b5f9-4ee1-84c6-3a2905edd04d"
      },
      "source": [
        "(hola mundo)"
      ],
      "execution_count": 3,
      "outputs": [
        {
          "output_type": "error",
          "ename": "SyntaxError",
          "evalue": "ignored",
          "traceback": [
            "\u001b[0;36m  File \u001b[0;32m\"<ipython-input-3-dee1936f20a2>\"\u001b[0;36m, line \u001b[0;32m1\u001b[0m\n\u001b[0;31m    (hola mundo)\u001b[0m\n\u001b[0m              ^\u001b[0m\n\u001b[0;31mSyntaxError\u001b[0m\u001b[0;31m:\u001b[0m invalid syntax\n"
          ]
        }
      ]
    },
    {
      "cell_type": "code",
      "metadata": {
        "id": "U8xDxvwmOvBF",
        "colab_type": "code",
        "colab": {
          "base_uri": "https://localhost:8080/",
          "height": 34
        },
        "outputId": "0e94f197-c1a6-4fb5-8f8b-6c266c64f131"
      },
      "source": [
        "print('hola mundo')"
      ],
      "execution_count": 4,
      "outputs": [
        {
          "output_type": "stream",
          "text": [
            "hola mundo\n"
          ],
          "name": "stdout"
        }
      ]
    }
  ]
}